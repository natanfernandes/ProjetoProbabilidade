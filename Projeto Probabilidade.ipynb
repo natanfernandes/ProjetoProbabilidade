{
 "cells": [
  {
   "cell_type": "markdown",
   "metadata": {},
   "source": [
    "<h1>IMPORTANDO AS BIBLIOTECAS QUE SERÃO USADAS NO PROJETO</h1>"
   ]
  },
  {
   "cell_type": "code",
   "execution_count": 1,
   "metadata": {},
   "outputs": [],
   "source": [
    "#Celula contendo apenas as bibliotecas utilizadas\n",
    "import pandas as pd\n",
    "import matplotlib.pyplot as plt\n",
    "import seaborn as sns\n",
    "import numpy as np"
   ]
  },
  {
   "cell_type": "markdown",
   "metadata": {},
   "source": [
    "<h1>ANALISAREMOS O GRUPO :  http://dados.ufrn.br/group/ensino </h1>"
   ]
  },
  {
   "cell_type": "code",
   "execution_count": 17,
   "metadata": {},
   "outputs": [],
   "source": [
    "#TURMAS 2017.2\n",
    "#http://dados.ufrn.br/dataset/turmas\n",
    "\n",
    "turmas_url = 'http://bit.do/turmas_ufrn_2017_2'\n",
    "turmas = pd.read_csv(turmas_url,sep=';')\n",
    "\n",
    "#NOTAS DAS TURMAS 2017.2\n",
    "#http://dados.ufrn.br/dataset/matriculas-componentes\n",
    "\n",
    "notas_url = 'http://bit.do/notas_ufrn_2017_2'\n",
    "notas = pd.read_csv(notas_url, sep=';')"
   ]
  },
  {
   "cell_type": "markdown",
   "metadata": {},
   "source": [
    "<h1> QUANTIDADE DE CURSOS PRESENCIAIS E A DISTANCIA DA UFRN EM 2017.2 </h1>"
   ]
  },
  {
   "cell_type": "code",
   "execution_count": 18,
   "metadata": {
    "scrolled": true
   },
   "outputs": [
    {
     "name": "stdout",
     "output_type": "stream",
     "text": [
      "Presencial     14228\n",
      "A Distância      244\n",
      "Name: modalidade_participantes, dtype: int64\n"
     ]
    }
   ],
   "source": [
    "qtdecursos = turmas.modalidade_participantes.value_counts()\n",
    "print(qtdecursos)"
   ]
  },
  {
   "cell_type": "markdown",
   "metadata": {},
   "source": [
    "<h1> ESTUDANDO O DESEMPENHO </h1>"
   ]
  },
  {
   "cell_type": "code",
   "execution_count": null,
   "metadata": {},
   "outputs": [],
   "source": [
    "#VAMOS VERIFICAR E COMPARAR O DESEMPENHO\n",
    "#DOS CURSOS PRESENCIAIS E A DISTÂNCIA DE GRADUAÇÃO\n",
    "#AFIM DE COMPARAR A QUALIDADE DE ENSINO DE CADA\n",
    "\n",
    "#CONVERTENDO"
   ]
  },
  {
   "cell_type": "code",
   "execution_count": 39,
   "metadata": {},
   "outputs": [
    {
     "data": {
      "text/html": [
       "<div>\n",
       "<style scoped>\n",
       "    .dataframe tbody tr th:only-of-type {\n",
       "        vertical-align: middle;\n",
       "    }\n",
       "\n",
       "    .dataframe tbody tr th {\n",
       "        vertical-align: top;\n",
       "    }\n",
       "\n",
       "    .dataframe thead th {\n",
       "        text-align: right;\n",
       "    }\n",
       "</style>\n",
       "<table border=\"1\" class=\"dataframe\">\n",
       "  <thead>\n",
       "    <tr style=\"text-align: right;\">\n",
       "      <th></th>\n",
       "      <th>id_turma</th>\n",
       "      <th>nivel_ensino</th>\n",
       "      <th>nota</th>\n",
       "      <th>unidade</th>\n",
       "      <th>media_final</th>\n",
       "      <th>descricao</th>\n",
       "      <th>modalidade_participantes</th>\n",
       "    </tr>\n",
       "  </thead>\n",
       "  <tbody>\n",
       "    <tr>\n",
       "      <th>1659</th>\n",
       "      <td>57603192</td>\n",
       "      <td>TÉCNICO</td>\n",
       "      <td>10.0</td>\n",
       "      <td>2.0</td>\n",
       "      <td>9.6</td>\n",
       "      <td>APROVADO</td>\n",
       "      <td>Presencial</td>\n",
       "    </tr>\n",
       "    <tr>\n",
       "      <th>1660</th>\n",
       "      <td>57603192</td>\n",
       "      <td>TÉCNICO</td>\n",
       "      <td>9.0</td>\n",
       "      <td>1.0</td>\n",
       "      <td>9.6</td>\n",
       "      <td>APROVADO</td>\n",
       "      <td>Presencial</td>\n",
       "    </tr>\n",
       "    <tr>\n",
       "      <th>1661</th>\n",
       "      <td>57603192</td>\n",
       "      <td>TÉCNICO</td>\n",
       "      <td>8.0</td>\n",
       "      <td>2.0</td>\n",
       "      <td>7.6</td>\n",
       "      <td>APROVADO</td>\n",
       "      <td>Presencial</td>\n",
       "    </tr>\n",
       "    <tr>\n",
       "      <th>1662</th>\n",
       "      <td>57603192</td>\n",
       "      <td>TÉCNICO</td>\n",
       "      <td>7.0</td>\n",
       "      <td>1.0</td>\n",
       "      <td>7.6</td>\n",
       "      <td>APROVADO</td>\n",
       "      <td>Presencial</td>\n",
       "    </tr>\n",
       "    <tr>\n",
       "      <th>1663</th>\n",
       "      <td>57603192</td>\n",
       "      <td>TÉCNICO</td>\n",
       "      <td>6.7</td>\n",
       "      <td>2.0</td>\n",
       "      <td>7.0</td>\n",
       "      <td>APROVADO</td>\n",
       "      <td>Presencial</td>\n",
       "    </tr>\n",
       "  </tbody>\n",
       "</table>\n",
       "</div>"
      ],
      "text/plain": [
       "      id_turma nivel_ensino  nota  unidade  media_final descricao  \\\n",
       "1659  57603192      TÉCNICO  10.0      2.0          9.6  APROVADO   \n",
       "1660  57603192      TÉCNICO   9.0      1.0          9.6  APROVADO   \n",
       "1661  57603192      TÉCNICO   8.0      2.0          7.6  APROVADO   \n",
       "1662  57603192      TÉCNICO   7.0      1.0          7.6  APROVADO   \n",
       "1663  57603192      TÉCNICO   6.7      2.0          7.0  APROVADO   \n",
       "\n",
       "     modalidade_participantes  \n",
       "1659               Presencial  \n",
       "1660               Presencial  \n",
       "1661               Presencial  \n",
       "1662               Presencial  \n",
       "1663               Presencial  "
      ]
     },
     "execution_count": 39,
     "metadata": {},
     "output_type": "execute_result"
    }
   ],
   "source": [
    "#FAZENDO O MERGE ENTRE AS TURMAS E AS NOTAS APENAS NAS COLUNAS ESPECIFICADAS\n",
    "colunas = [\"id_turma\",\"nivel_ensino\",\"nota\",\"unidade\",\"media_final\",\"descricao\",\"modalidade_participantes\"]\n",
    "merge_turmas_notas = pd.merge(turmas,notas,on=\"id_turma\")[colunas]\n",
    "merge_turmas_notas.dropna(inplace=True)\n",
    "merge_turmas_notas.head()"
   ]
  }
 ],
 "metadata": {
  "kernelspec": {
   "display_name": "Python 3",
   "language": "python",
   "name": "python3"
  },
  "language_info": {
   "codemirror_mode": {
    "name": "ipython",
    "version": 3
   },
   "file_extension": ".py",
   "mimetype": "text/x-python",
   "name": "python",
   "nbconvert_exporter": "python",
   "pygments_lexer": "ipython3",
   "version": "3.6.4"
  }
 },
 "nbformat": 4,
 "nbformat_minor": 2
}
