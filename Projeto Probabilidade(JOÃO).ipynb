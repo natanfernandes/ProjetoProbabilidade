{
 "cells": [
  {
   "cell_type": "markdown",
   "metadata": {},
   "source": [
    "<h1>IMPORTANDO AS BIBLIOTECAS QUE SERÃO USADAS NO PROJETO</h1>"
   ]
  },
  {
   "cell_type": "code",
   "execution_count": 1,
   "metadata": {},
   "outputs": [],
   "source": [
    "#Celula contendo apenas as bibliotecas utilizadas\n",
    "import pandas as pd\n",
    "import matplotlib.pyplot as plt\n",
    "import seaborn as sns\n",
    "import numpy as np"
   ]
  },
  {
   "cell_type": "markdown",
   "metadata": {},
   "source": [
    "<h1>ANALISAREMOS O GRUPO :  http://dados.ufrn.br/group/ensino </h1>"
   ]
  },
  {
   "cell_type": "code",
   "execution_count": 8,
   "metadata": {},
   "outputs": [],
   "source": [
    "docentes_url = \"http://dados.ufrn.br/dataset/8bf1a468-48ff-4f4d-95ee-b17b7a3a5592/resource/ff0a457e-76fa-4aca-ad99-48aebd7db070/download/docentes.csv\"\n",
    "docentes = pd.read_csv(docentes_url, sep=';')\n",
    "\n",
    "avaliacao_docentes_url = 'http://dados.ufrn.br/dataset/d5723d75-7e6e-4264-82aa-b96909b69f63/resource/7accd1d2-2793-460e-b98d-87a0679b9155/download/avaliacaodocencia.csv'\n",
    "avaliacao_docentes = pd.read_csv(avaliacao_docentes_url, sep=';')"
   ]
  },
  {
   "cell_type": "code",
   "execution_count": 14,
   "metadata": {},
   "outputs": [],
   "source": [
    "docentes.rename(columns={'id_servidor': 'id_docente'}, inplace=True)"
   ]
  },
  {
   "cell_type": "code",
   "execution_count": 13,
   "metadata": {},
   "outputs": [
    {
     "name": "stdout",
     "output_type": "stream",
     "text": [
      "<class 'pandas.core.frame.DataFrame'>\n",
      "RangeIndex: 58875 entries, 0 to 58874\n",
      "Data columns (total 12 columns):\n",
      "id_docente                    58875 non-null int64\n",
      "nome_docente                  58875 non-null object\n",
      "id_turma                      58875 non-null int64\n",
      "ano                           58875 non-null int64\n",
      "periodo                       58875 non-null int64\n",
      "qtd_discentes                 58875 non-null int64\n",
      "postura_profissional_media    58875 non-null float64\n",
      "postura_profissional_DP       58875 non-null float64\n",
      "atuacao_profissional_media    58875 non-null float64\n",
      "atuacao_profissional_DP       58875 non-null float64\n",
      "autoavaliacao_aluno_media     58875 non-null float64\n",
      "autoavaliacao_aluno_DP        58875 non-null float64\n",
      "dtypes: float64(6), int64(5), object(1)\n",
      "memory usage: 5.4+ MB\n"
     ]
    }
   ],
   "source": [
    "avaliacao_docentes.info()"
   ]
  },
  {
   "cell_type": "code",
   "execution_count": 12,
   "metadata": {},
   "outputs": [
    {
     "name": "stdout",
     "output_type": "stream",
     "text": [
      "<class 'pandas.core.frame.DataFrame'>\n",
      "RangeIndex: 2325 entries, 0 to 2324\n",
      "Data columns (total 12 columns):\n",
      "id_servidor              2325 non-null int64\n",
      "siape                    2325 non-null int64\n",
      "nome                     2325 non-null object\n",
      "formacao                 2325 non-null object\n",
      "tipo_jornada_trabalho    2325 non-null object\n",
      "vinculo                  2325 non-null object\n",
      "categoria                2325 non-null object\n",
      "classe_funcional         2325 non-null object\n",
      "id_unidade_lotacao       2325 non-null int64\n",
      "lotacao                  2325 non-null object\n",
      "admissao                 2325 non-null object\n",
      "Unnamed: 11              0 non-null float64\n",
      "dtypes: float64(1), int64(3), object(8)\n",
      "memory usage: 218.0+ KB\n"
     ]
    }
   ],
   "source": [
    "docentes.info()"
   ]
  },
  {
   "cell_type": "code",
   "execution_count": 15,
   "metadata": {},
   "outputs": [],
   "source": [
    "colunas = ['id_docente', 'lotacao', 'ano', 'postura_profissional_media', 'atuacao_profissional_media', 'autoavaliacao_aluno_media']\n",
    "\n",
    "merge_docentes_avaliacao = pd.merge(docentes, avaliacao_docentes, on = 'id_docente')[colunas]"
   ]
  },
  {
   "cell_type": "code",
   "execution_count": 16,
   "metadata": {
    "scrolled": true
   },
   "outputs": [
    {
     "name": "stderr",
     "output_type": "stream",
     "text": [
      "C:\\Users\\alesy\\Anaconda3\\lib\\site-packages\\pandas\\core\\generic.py:3643: SettingWithCopyWarning: \n",
      "A value is trying to be set on a copy of a slice from a DataFrame.\n",
      "Try using .loc[row_indexer,col_indexer] = value instead\n",
      "\n",
      "See the caveats in the documentation: http://pandas.pydata.org/pandas-docs/stable/indexing.html#indexing-view-versus-copy\n",
      "  self[name] = value\n"
     ]
    }
   ],
   "source": [
    "docentes_avaliacao_imd = merge_docentes_avaliacao[merge_docentes_avaliacao.lotacao == \"INSTITUTO METROPOLE DIGITAL\"]\n",
    "docentes_avaliacao_imd.lotacao = \"IMD\"\n",
    "\n",
    "docentes_avaliacao_dimap = merge_docentes_avaliacao[merge_docentes_avaliacao.lotacao == \"DEPARTAMENTO DE INFORMÁTICA E MATEMÁTICA APLICADA\"]\n",
    "docentes_avaliacao_dimap.lotacao = \"DIMAP\"\n"
   ]
  },
  {
   "cell_type": "code",
   "execution_count": 17,
   "metadata": {
    "scrolled": true
   },
   "outputs": [],
   "source": [
    "#Avaliacoes 2013 DIMAP/IMD\n",
    "#IMD\n",
    "docentes_avaliacao_imd_2013 = docentes_avaliacao_imd[docentes_avaliacao_imd.ano == 2013]\n",
    "docentes_avaliacao_imd_2013 = docentes_avaliacao_imd_2013[~docentes_avaliacao_imd_2013.id_docente.duplicated()]\n",
    "#DIMAP\n",
    "docentes_avaliacao_dimap_2013 = docentes_avaliacao_dimap[docentes_avaliacao_dimap.ano == 2013]\n",
    "docentes_avaliacao_dimap_2013 = docentes_avaliacao_dimap_2013[~docentes_avaliacao_dimap_2013.id_docente.duplicated()]\n",
    "#CONCATENANDO\n",
    "avaliacoes_2013 = pd.concat([docentes_avaliacao_dimap_2013, docentes_avaliacao_imd_2013])"
   ]
  },
  {
   "cell_type": "code",
   "execution_count": 18,
   "metadata": {},
   "outputs": [],
   "source": [
    "#Avaliacoes 2014 DIMAP/IMD\n",
    "#IMD\n",
    "docentes_avaliacao_imd_2014 = docentes_avaliacao_imd[docentes_avaliacao_imd.ano == 2014]\n",
    "docentes_avaliacao_imd_2014 = docentes_avaliacao_imd_2014[~docentes_avaliacao_imd_2014.id_docente.duplicated()]\n",
    "#DIMAP\n",
    "docentes_avaliacao_dimap_2014 = docentes_avaliacao_dimap[docentes_avaliacao_dimap.ano == 2014]\n",
    "docentes_avaliacao_dimap_2014 = docentes_avaliacao_dimap_2014[~docentes_avaliacao_dimap_2014.id_docente.duplicated()]\n",
    "avaliacoes_2014 = pd.concat([docentes_avaliacao_dimap_2014, docentes_avaliacao_imd_2014])"
   ]
  },
  {
   "cell_type": "code",
   "execution_count": 19,
   "metadata": {},
   "outputs": [],
   "source": [
    "#Avaliacoes 2015 DIMAP/IMD\n",
    "#IMD\n",
    "docentes_avaliacao_imd_2015 = docentes_avaliacao_imd[docentes_avaliacao_imd.ano == 2015]\n",
    "docentes_avaliacao_imd_2015 = docentes_avaliacao_imd_2015[~docentes_avaliacao_imd_2015.id_docente.duplicated()]\n",
    "#DIMAP\n",
    "docentes_avaliacao_dimap_2015 = docentes_avaliacao_dimap[docentes_avaliacao_dimap.ano == 2015]\n",
    "docentes_avaliacao_dimap_2015 = docentes_avaliacao_dimap_2015[~docentes_avaliacao_dimap_2015.id_docente.duplicated()]\n",
    "#CONCATENANDO\n",
    "avaliacoes_2015 = pd.concat([docentes_avaliacao_dimap_2015, docentes_avaliacao_imd_2015])"
   ]
  },
  {
   "cell_type": "code",
   "execution_count": 20,
   "metadata": {},
   "outputs": [],
   "source": [
    "#Avaliacoes 2016 DIMAP/IMD\n",
    "#IMD\n",
    "docentes_avaliacao_imd_2016 = docentes_avaliacao_imd[docentes_avaliacao_imd.ano == 2016]\n",
    "docentes_avaliacao_imd_2016 = docentes_avaliacao_imd_2016[~docentes_avaliacao_imd_2016.id_docente.duplicated()]\n",
    "#DIMAP\n",
    "docentes_avaliacao_dimap_2016 = docentes_avaliacao_dimap[docentes_avaliacao_dimap.ano == 2016]\n",
    "docentes_avaliacao_dimap_2016 = docentes_avaliacao_dimap_2016[~docentes_avaliacao_dimap_2016.id_docente.duplicated()]\n",
    "#CONCATENANDO\n",
    "avaliacoes_2016 = pd.concat([docentes_avaliacao_dimap_2016, docentes_avaliacao_imd_2016])"
   ]
  },
  {
   "cell_type": "code",
   "execution_count": 21,
   "metadata": {},
   "outputs": [],
   "source": [
    "#Avaliacoes 2017 DIMAP/IMD\n",
    "#IMD\n",
    "docentes_avaliacao_imd_2017 = docentes_avaliacao_imd[docentes_avaliacao_imd.ano == 2017]\n",
    "docentes_avaliacao_imd_2017 = docentes_avaliacao_imd_2017[~docentes_avaliacao_imd_2017.id_docente.duplicated()]\n",
    "#DIMAP\n",
    "docentes_avaliacao_dimap_2017 = docentes_avaliacao_dimap[docentes_avaliacao_dimap.ano == 2017]\n",
    "docentes_avaliacao_dimap_2017 = docentes_avaliacao_dimap_2017[~docentes_avaliacao_dimap_2017.id_docente.duplicated()]\n",
    "#CONCATENANDO\n",
    "avaliacoes_2017 = pd.concat([docentes_avaliacao_dimap_2017, docentes_avaliacao_imd_2017])"
   ]
  },
  {
   "cell_type": "code",
   "execution_count": 157,
   "metadata": {},
   "outputs": [],
   "source": [
    "avaliacoes_dimap = pd.concat([docentes_avaliacao_dimap_2013,docentes_avaliacao_dimap_2014,docentes_avaliacao_dimap_2015,docentes_avaliacao_dimap_2016,docentes_avaliacao_dimap_2017])\n",
    "avaliacoes_imd = pd.concat([docentes_avaliacao_imd_2013,docentes_avaliacao_imd_2014,docentes_avaliacao_imd_2015,docentes_avaliacao_imd_2016,docentes_avaliacao_imd_2017])\n",
    "\n",
    "avaliacoes = pd.concat([avaliacoes_dimap,avaliacoes_imd])"
   ]
  },
  {
   "cell_type": "code",
   "execution_count": 238,
   "metadata": {
    "scrolled": true
   },
   "outputs": [],
   "source": [
    "avaliacoes_dimap_media = avaliacoes_dimap.pivot_table(index=\"ano\",\n",
    "                 values=[\"postura_profissional_media\",\"atuacao_profissional_media\", \"autoavaliacao_aluno_media\"],\n",
    "                 aggfunc=np.mean)\n",
    "anos= [2013,2014,2015,2016,2017]\n",
    "avaliacoes_dimap_media['ano'] = anos\n",
    "avaliacoes_dimap_media.rename(columns={'postura_profissional_media': 'postura_profissional_media_dimap',\n",
    "                                 'autoavaliacao_aluno_media' : 'autoavaliacao_aluno_media_dimap', \n",
    "                                 'atuacao_profissional_media' : 'atuacao_profissional_media_dimap'}, inplace=True)"
   ]
  },
  {
   "cell_type": "code",
   "execution_count": 237,
   "metadata": {},
   "outputs": [],
   "source": [
    "avaliacoes_imd_media = avaliacoes_imd.pivot_table(index=\"ano\",\n",
    "                 values=[\"postura_profissional_media\",\"atuacao_profissional_media\", \"autoavaliacao_aluno_media\"],\n",
    "                 aggfunc=np.mean)\n",
    "anos= [2013,2014,2015,2016,2017]\n",
    "avaliacoes_imd_media['ano'] = anos\n",
    "avaliacoes_imd_media.rename(columns={'postura_profissional_media': 'postura_profissional_media_imd',\n",
    "                                 'autoavaliacao_aluno_media' : 'autoavaliacao_aluno_media_imd', \n",
    "                                 'atuacao_profissional_media' : 'atuacao_profissional_media_imd'}, inplace=True)"
   ]
  },
  {
   "cell_type": "code",
   "execution_count": 214,
   "metadata": {},
   "outputs": [
    {
     "data": {
      "text/html": [
       "<div>\n",
       "<style scoped>\n",
       "    .dataframe tbody tr th:only-of-type {\n",
       "        vertical-align: middle;\n",
       "    }\n",
       "\n",
       "    .dataframe tbody tr th {\n",
       "        vertical-align: top;\n",
       "    }\n",
       "\n",
       "    .dataframe thead th {\n",
       "        text-align: right;\n",
       "    }\n",
       "</style>\n",
       "<table border=\"1\" class=\"dataframe\">\n",
       "  <thead>\n",
       "    <tr style=\"text-align: right;\">\n",
       "      <th></th>\n",
       "      <th>atuacao_profissional_media_imd</th>\n",
       "      <th>autoavaliacao_aluno_media_imd</th>\n",
       "      <th>postura_profissional_media_imd</th>\n",
       "      <th>ano</th>\n",
       "      <th>atuacao_profissional_media_dimap</th>\n",
       "      <th>autoavaliacao_aluno_media_dimap</th>\n",
       "      <th>postura_profissional_media_dimap</th>\n",
       "    </tr>\n",
       "  </thead>\n",
       "  <tbody>\n",
       "    <tr>\n",
       "      <th>0</th>\n",
       "      <td>8.945556</td>\n",
       "      <td>8.494444</td>\n",
       "      <td>9.571111</td>\n",
       "      <td>2013</td>\n",
       "      <td>8.678800</td>\n",
       "      <td>8.446800</td>\n",
       "      <td>9.376800</td>\n",
       "    </tr>\n",
       "    <tr>\n",
       "      <th>1</th>\n",
       "      <td>9.236842</td>\n",
       "      <td>8.531053</td>\n",
       "      <td>9.593158</td>\n",
       "      <td>2014</td>\n",
       "      <td>8.860000</td>\n",
       "      <td>8.432813</td>\n",
       "      <td>9.485312</td>\n",
       "    </tr>\n",
       "    <tr>\n",
       "      <th>2</th>\n",
       "      <td>9.060000</td>\n",
       "      <td>8.508387</td>\n",
       "      <td>9.647097</td>\n",
       "      <td>2015</td>\n",
       "      <td>8.781786</td>\n",
       "      <td>8.414286</td>\n",
       "      <td>9.328214</td>\n",
       "    </tr>\n",
       "    <tr>\n",
       "      <th>3</th>\n",
       "      <td>9.141515</td>\n",
       "      <td>8.446667</td>\n",
       "      <td>9.594848</td>\n",
       "      <td>2016</td>\n",
       "      <td>8.692333</td>\n",
       "      <td>8.450000</td>\n",
       "      <td>9.424000</td>\n",
       "    </tr>\n",
       "    <tr>\n",
       "      <th>4</th>\n",
       "      <td>9.398000</td>\n",
       "      <td>8.754333</td>\n",
       "      <td>9.688667</td>\n",
       "      <td>2017</td>\n",
       "      <td>9.251786</td>\n",
       "      <td>8.733929</td>\n",
       "      <td>9.716429</td>\n",
       "    </tr>\n",
       "  </tbody>\n",
       "</table>\n",
       "</div>"
      ],
      "text/plain": [
       "   atuacao_profissional_media_imd  autoavaliacao_aluno_media_imd  \\\n",
       "0                        8.945556                       8.494444   \n",
       "1                        9.236842                       8.531053   \n",
       "2                        9.060000                       8.508387   \n",
       "3                        9.141515                       8.446667   \n",
       "4                        9.398000                       8.754333   \n",
       "\n",
       "   postura_profissional_media_imd   ano  atuacao_profissional_media_dimap  \\\n",
       "0                        9.571111  2013                          8.678800   \n",
       "1                        9.593158  2014                          8.860000   \n",
       "2                        9.647097  2015                          8.781786   \n",
       "3                        9.594848  2016                          8.692333   \n",
       "4                        9.688667  2017                          9.251786   \n",
       "\n",
       "   autoavaliacao_aluno_media_dimap  postura_profissional_media_dimap  \n",
       "0                         8.446800                          9.376800  \n",
       "1                         8.432813                          9.485312  \n",
       "2                         8.414286                          9.328214  \n",
       "3                         8.450000                          9.424000  \n",
       "4                         8.733929                          9.716429  "
      ]
     },
     "execution_count": 214,
     "metadata": {},
     "output_type": "execute_result"
    }
   ],
   "source": [
    "avaliacoes_medias = pd.merge(avaliacoes_imd_media, avaliacoes_dimap_media)\n",
    "avaliacoes_medias"
   ]
  },
  {
   "cell_type": "code",
   "execution_count": 283,
   "metadata": {},
   "outputs": [
    {
     "name": "stderr",
     "output_type": "stream",
     "text": [
      "C:\\Users\\alesy\\Anaconda3\\lib\\site-packages\\pandas\\plotting\\_core.py:1716: UserWarning: Pandas doesn't allow columns to be created via a new attribute name - see https://pandas.pydata.org/pandas-docs/stable/indexing.html#attribute-access\n",
      "  series.name = label\n"
     ]
    },
    {
     "ename": "TypeError",
     "evalue": "__init__() got an unexpected keyword argument 'size'",
     "output_type": "error",
     "traceback": [
      "\u001b[1;31m---------------------------------------------------------------------------\u001b[0m",
      "\u001b[1;31mTypeError\u001b[0m                                 Traceback (most recent call last)",
      "\u001b[1;32m<ipython-input-283-8c63c7e532c8>\u001b[0m in \u001b[0;36m<module>\u001b[1;34m()\u001b[0m\n\u001b[0;32m      3\u001b[0m                                 color=['blue', 'green']).\\\n\u001b[0;32m      4\u001b[0m                                     legend(loc='best',\n\u001b[1;32m----> 5\u001b[1;33m                                labels=['IMD','DIMAP'], size=10)\n\u001b[0m\u001b[0;32m      6\u001b[0m \u001b[1;33m\u001b[0m\u001b[0m\n\u001b[0;32m      7\u001b[0m avaliacoes_medias.plot(kind='line',x='ano',y=[\"autoavaliacao_aluno_media_imd\", \"autoavaliacao_aluno_media_dimap\"],\n",
      "\u001b[1;32m~\\Anaconda3\\lib\\site-packages\\matplotlib\\axes\\_axes.py\u001b[0m in \u001b[0;36mlegend\u001b[1;34m(self, *args, **kwargs)\u001b[0m\n\u001b[0;32m    498\u001b[0m         \u001b[1;32mif\u001b[0m \u001b[0mlen\u001b[0m\u001b[1;33m(\u001b[0m\u001b[0mextra_args\u001b[0m\u001b[1;33m)\u001b[0m\u001b[1;33m:\u001b[0m\u001b[1;33m\u001b[0m\u001b[0m\n\u001b[0;32m    499\u001b[0m             \u001b[1;32mraise\u001b[0m \u001b[0mTypeError\u001b[0m\u001b[1;33m(\u001b[0m\u001b[1;34m'legend only accepts two non-keyword arguments'\u001b[0m\u001b[1;33m)\u001b[0m\u001b[1;33m\u001b[0m\u001b[0m\n\u001b[1;32m--> 500\u001b[1;33m         \u001b[0mself\u001b[0m\u001b[1;33m.\u001b[0m\u001b[0mlegend_\u001b[0m \u001b[1;33m=\u001b[0m \u001b[0mmlegend\u001b[0m\u001b[1;33m.\u001b[0m\u001b[0mLegend\u001b[0m\u001b[1;33m(\u001b[0m\u001b[0mself\u001b[0m\u001b[1;33m,\u001b[0m \u001b[0mhandles\u001b[0m\u001b[1;33m,\u001b[0m \u001b[0mlabels\u001b[0m\u001b[1;33m,\u001b[0m \u001b[1;33m**\u001b[0m\u001b[0mkwargs\u001b[0m\u001b[1;33m)\u001b[0m\u001b[1;33m\u001b[0m\u001b[0m\n\u001b[0m\u001b[0;32m    501\u001b[0m         \u001b[0mself\u001b[0m\u001b[1;33m.\u001b[0m\u001b[0mlegend_\u001b[0m\u001b[1;33m.\u001b[0m\u001b[0m_remove_method\u001b[0m \u001b[1;33m=\u001b[0m \u001b[1;32mlambda\u001b[0m \u001b[0mh\u001b[0m\u001b[1;33m:\u001b[0m \u001b[0msetattr\u001b[0m\u001b[1;33m(\u001b[0m\u001b[0mself\u001b[0m\u001b[1;33m,\u001b[0m \u001b[1;34m'legend_'\u001b[0m\u001b[1;33m,\u001b[0m \u001b[1;32mNone\u001b[0m\u001b[1;33m)\u001b[0m\u001b[1;33m\u001b[0m\u001b[0m\n\u001b[0;32m    502\u001b[0m         \u001b[1;32mreturn\u001b[0m \u001b[0mself\u001b[0m\u001b[1;33m.\u001b[0m\u001b[0mlegend_\u001b[0m\u001b[1;33m\u001b[0m\u001b[0m\n",
      "\u001b[1;31mTypeError\u001b[0m: __init__() got an unexpected keyword argument 'size'"
     ]
    },
    {
     "data": {
      "image/png": "[encoded data removed]",
      "text/plain": [
       "<matplotlib.figure.Figure at 0x2055d761748>"
      ]
     },
     "metadata": {},
     "output_type": "display_data"
    }
   ],
   "source": [
    "axe1 = avaliacoes_medias.plot(kind='line',x='ano',y=[\"atuacao_profissional_media_imd\", \"atuacao_profissional_media_dimap\"],\n",
    "                                title='Atuação profissional',\n",
    "                                color=['blue', 'green']).\\\n",
    "                                    legend(loc='best',\n",
    "                               labels=['IMD','DIMAP'])\n",
    "    \n",
    "avaliacoes_medias.plot(kind='line',x='ano',y=[\"autoavaliacao_aluno_media_imd\", \"autoavaliacao_aluno_media_dimap\"],\n",
    "                   title='Auto avaliação',\n",
    "                   color=['blue', 'green']).\\\n",
    "                        legend(loc='best',\n",
    "                               labels=['IMD','DIMAP'])\n",
    "avaliacoes_medias.plot(kind='line',x='ano',y=[\"postura_profissional_media_imd\", \"postura_profissional_media_dimap\"],\n",
    "                   title='Postura profissional',\n",
    "                   color=['blue', 'green']).\\\n",
    "                        legend(loc='best',\n",
    "                               labels=['IMD','DIMAP'])"
   ]
  }
 ],
 "metadata": {
  "kernelspec": {
   "display_name": "Python 3",
   "language": "python",
   "name": "python3"
  },
  "language_info": {
   "codemirror_mode": {
    "name": "ipython",
    "version": 3
   },
   "file_extension": ".py",
   "mimetype": "text/x-python",
   "name": "python",
   "nbconvert_exporter": "python",
   "pygments_lexer": "ipython3",
   "version": "3.6.4"
  }
 },
 "nbformat": 4,
 "nbformat_minor": 2
}
